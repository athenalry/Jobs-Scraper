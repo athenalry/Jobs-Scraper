{
 "cells": [
  {
   "cell_type": "code",
   "execution_count": 1,
   "metadata": {},
   "outputs": [],
   "source": [
    "import pandas as pd\n",
    "import numpy as np\n",
    "import matplotlib.pyplot as plt\n",
    "import seaborn as sns\n",
    "%matplotlib inline\n",
    "from urllib.request import urlopen\n",
    "from bs4 import BeautifulSoup"
   ]
  },
  {
   "cell_type": "code",
   "execution_count": 2,
   "metadata": {},
   "outputs": [
    {
     "name": "stdout",
     "output_type": "stream",
     "text": [
      "<title>Software Developer Jobs, Employment in California | Indeed.com</title>\n"
     ]
    }
   ],
   "source": [
    "# start our query\n",
    "# def startQuery():\n",
    "url = \"https://www.indeed.com/jobs?rq=1&q=software+developer&l=California&ts=1577149148422&from=searchOnSerp&rsIdx=0&mobtk=1dsqmkjebq45n800&fromage=last&mobRdr=1\"\n",
    "html = urlopen(url)\n",
    "soup = BeautifulSoup(html, 'lxml')\n",
    "type(soup)\n",
    "title = soup.title\n",
    "print(title)"
   ]
  },
  {
   "cell_type": "code",
   "execution_count": 3,
   "metadata": {},
   "outputs": [
    {
     "name": "stdout",
     "output_type": "stream",
     "text": [
      "Not empty\n",
      "/pagead/clk?mo=r&ad=-6NYlbfkN0DhVAxkc_TxySVbUOs6bxWYWOfhmDTNcVTjFFBAY1FXZz6G2ZVf9e4M8VMhdxNgIWP5kc2egnwzFMHOiWPXIRnyPmrvjds_yEQg2TklNzQbVCSq115NLaa2uyX8GkGw7SR_TA5Gx9Bcch0E0RB-XvJtfhz4Qv_6umYk9mpZa2_lrak_dqcS5c3E1dTSs2VYDI6SGK_fASJ9cCK9H-yS1D02XekmejAc0y2KUN-Rzp8JdKsW0cuub2oF5Ekd16oC56gN76q24EWOipbpYulIIfO886Bk5pZfvbtqPnhAbE30GuG2wyeH5RcQxbCxMLP5lLrebGYykXCqYcjHrgGCG0WMdbUqT3up2guniG0ltjWP35eB94JxB_gMKCT-E85pgoXK3rHAn4gwRPoOCOLfMbdudFRe1aXaO1Ca2ImMNeZxIJF6zB6oV_PGoRp1J8jPwfi8FJVDu573Yzznb_h9zDL7N34C7NrQXUcZGxZTFsSvIsGzz-wGqaRxBX3_FE4R7O1NjqILwCcIb3aqnExFDI9LqtBj3FpKhRv9lJxp1O0Ubiywy78PSbjFVPxL8TIAya6Pyjbrgz5rq_QbnMtF7CIf35vntXkreJmeJ6I64fYkm-67n_pXC3zRqovj4-4tGE4cWWwfeh20qDSLZyBzA7EmJP0kwhbJRO45p1TybGiqApk-cA765BOscjkYljkDk1Y=&p=0&fvj=1&vjs=3\n",
      "/pagead/clk?mo=r&ad=-6NYlbfkN0DhVAxkc_TxySVbUOs6bxWYWOfhmDTNcVTjFFBAY1FXZz6G2ZVf9e4MXCvtzGBfOl2DMxYl2J1uhmi3BvlBX5nmlvNU_N2gkWKrHTWJT3H7lXlHSLulvx5daCxqruzfeat7fD-x6enlDMsq6RybPR6tYHXE8O0iZrAGp5a_gOtDWagqMg208LbB2k9U68-ZmtE2_bjgRZ5wGr3behGbHMpH-8nJ0QdnTIHTNVpPSKy6PNejmkkt3zQtbrAmZ--Z03wQkA4DpmoTKaItUdon5kP_iJx2vVx-pJ8l0ZpkB4E1CCOhMMqYY7ZPetJB40D8UcT2GwxNQfDt4ItLeQ7IezcdZw5hHRI2zEWYu_ghOZdr4Iia5z7txd8QeIAEj2bLoA7EXU3l8sM50Ic154UoIiQSOsI7sFgSc6DpQ_xb0M1x0MXcWOhjykvV6wYCJU-mZ_Snc5SY24rOeBqWEu35UEQhznR73_d2iIF2EqW-JIKLCsOXyK2-WQ4TvP78z7108uvl6lt5EtUdi80s7W-Pt0YiLnC3kQ00d728BpNZSxH0ILSrXzhCJyCF1ugYnIitrx7CXOwn30yQGk2igaE8SnRTRzwKt7UWgsecKi2-ltMs4hu-QGkX3Wm0HqZPZJ8M74Ovm8wdgGYbaxjm5eIrb0unsrzlRuWiHChDzkrnVLl_4Q==&p=1&fvj=1&vjs=3\n",
      "/pagead/clk?mo=r&ad=-6NYlbfkN0AMr11YIOo206dX9CE572HoIBzjTozchv3QrfVeNVhstpAv0vWrV8Xizb9T2c7dYEfurMr15Wzqw92qobG3FjQiI3j5W_Vjg9WZybimfNSp9QF7-7XTqskKk-wQ8E7GoJOA5OdrvKqymywBpBeIeav0SphwDXGUNBl21Xkr90ae_hGyrAg2EcgTRY0EOiCrfrHGcNK72BLdXciRjUEKrjz8Uin4pq8IErBuzqEkZKEp1OX5pcUpMcCZI2sfieAw3yNL5hsm5-T-GGLb23J7CszsqME7ddKoYDm5wcJ6YyPmdXRhcwr_v7uwrOoGo6DNe946twl7lpnuzgI6iMz8WQ8TTGl52BHdz7ZqG6l869o6YMqCcov0zxniJIECGniUyjVqszR1H3hIXBvQEwTRVwWV_z0sGO-3i9-7Z11KXyrUgj66oaOXeBQlWK1IpYwW5G4HzYQPROj-WVf2VHcTyiJV&p=2&fvj=1&vjs=3\n",
      "/pagead/clk?mo=r&ad=-6NYlbfkN0Ao1sXqsfl_eKMvAUCHN22fcucLWVoEbECIQPomdFbHyzA6C68pkthqhn83aBt0w6b-3yBB3HSLCK3YgHOqhsA2mSnyhc3M-5goQffd5T4EkeWYu-nM1swX2va9wEA-5m3m1vM1_Y0xg_V3tyh63Osjh7E638l7r3VhtqBdqC-M6Q84-y2QLzYKvrF2GREyCimBz_aA823soMbtac3HvDsXsunoe1LceYQYgjs4089Am3vt3_4wKgiKiX2GE1O2CD6QIt2d9hGEzAs-9KfYr-LQYY7P81gE58iT4x6gMa-9Fy4VmKPttm18iKTBEPrvDzWZ50d_7LnrzM4TpcKTrx3xpAtmFrbAqAJalLqmRTKPoMBXLxsQcJJHhdad6SjnX2WAgsHNrZRLo4hdAC_kfM7ALOn817YBxrjWJbIzykzu6I-r6hLjiz2NS9gTvg66EAZc7gNnbAnz6cUYgdkfPGZSgQBGUfhBewc=&p=3&fvj=1&vjs=3\n",
      "/pagead/clk?mo=r&ad=-6NYlbfkN0DhVAxkc_TxySVbUOs6bxWYWOfhmDTNcVTjFFBAY1FXZz6G2ZVf9e4ML_mcrYWbg3ztdkwJnb8CSHVvUKklkTRE0avskDTUv2fv-__iPqOhvPhKX1YS0R8ZZKH1Og-naDZAaB_2wFc-gu0ACkoGUJj70dV7TteOM3epDZwpdzAppF4GA5PObyKwNCqTXmKmRznn5CwB-fa4-hsnQDdOtXEsZMy8AZ0L2tnVsfenuA9DOYYuE3ziz3_mzlmgGU149tDx28qUaM8Fj8OfRLadZ6aAB3KE7QMMq2998OlNzudItTeV4eIn6GMbHkTpN-NHFvCE5QqPH5531Pajo_iQiE4uBBkspDbGPIy-jeLmnT-TicOIuKThgcRRpao0VSRSJeqm-T3SC2BeJ_ACEbE_zV1Q25qgi4cCWNXnXPhvNhnfdHcUfR38vE7nR9o_DASa6QBKQgxnC227HhZmYQ3R9ISroVuQN50kYAORcadE13sJo0SZO6l-D9Eb8CBJkr-nuOOleoxH8LdTyxR5_k2nhbBquXRq-HfijkX-SmofhkhY1UFj2U5RKKttjpTTenk1BE4MV3UHqJIwCUhLDCGFzyL21sZVC2wH_ljWfc2Hojbv2w==&p=4&fvj=1&vjs=3\n",
      "/pagead/clk?mo=r&ad=-6NYlbfkN0AzKM57a_-bdFnPijwKDi30obl1S0M1I_VHZs4vYHRu9v35agS8DldVENkY3eNxsC8VXXg9JByTXYpYOt2X6F0cdAWjXIkCxMI9QfCg-YF7Ht9tYsKIC9rHJKz8HSLusXvy3-o22tgMtqSYJw7VjDi8iSAa2l5PC2LbyFPNpJXrRfrmzykHouwuNmVz2ACInLZIXevkCDg_Yb7FeCyiMZVfYD6snmumw0u9XvdXpjZd2koqAs6g90IKss4-SYgZ-QbNdZGpWDQ2S5L0hwUDYIKlsRoGoEXIWM7KNEz6wnEiRH7rc0LagSwPLJDBJRqKEt55864vITk6TswwxdpO_8SCcMuBJvN8vvmDnldCnZuFXaPmvs4uRtfp_9Q8-KANvLYepQOnhYL78-Y6qwZvGg6Pez0viXph-3_DuSMN-DnekvBQbhBZF4_dsPCod5HRGd1ql3E1T96-muNugDtR4YTy4CJfzUuTnXM=&p=5&fvj=1&vjs=3\n",
      "/rc/clk?jk=56a32f1f48df987d&fccid=33fac48d55359688&vjs=3\n",
      "/cmp/Hcl-Americas\n",
      "/cmp/Hcl-Americas/reviews\n",
      "/rc/clk?jk=c9faf27746346aa6&fccid=6f86bbf52523eb62&vjs=3\n",
      "/company/QUICK-QUACK-CAR-WASH/jobs/Junior-Software-Developer-41ffca777480afa0?fccid=4d843c4c95d4b3bd&vjs=3\n",
      "/cmp/Quick-Quack-Car-Wash\n",
      "/cmp/Quick-Quack-Car-Wash/reviews\n",
      "/company/Triplebyte/jobs/Software-Engineer-0c052b07f177c5ad?fccid=8b07fcf2429eed01&vjs=3\n",
      "/company/TinyHouseMe/jobs/Junior-Software-Developer-fed30357105d437c?fccid=40d7e5d197d2171b&vjs=3\n",
      "/company/MST/jobs/Software-Developer-d23f55a56cb5ed36?fccid=30c919636449ecfa&vjs=3\n",
      "/cmp/Mst\n",
      "/cmp/Mst/reviews\n",
      "/rc/clk?jk=0b4ce1799100c100&fccid=8323475376b26d86&vjs=3\n",
      "/rc/clk?jk=92643a49f4a5b011&fccid=10b5a4abcc6bf067&vjs=3\n",
      "/cmp/Uc-SAN-Diego\n",
      "/cmp/Uc-SAN-Diego/reviews\n",
      "/company/ALCglobalSoftware/jobs/Entry-Level-Software-Developer-e36f317e9eea595c?fccid=f924474da6ce4e39&vjs=3\n",
      "/rc/clk?jk=7709085d5940d780&fccid=ffdf68a7a61343e5&vjs=3\n",
      "/cmp/Scripps-Health\n",
      "/cmp/Scripps-Health/reviews\n",
      "/pagead/clk?mo=r&ad=-6NYlbfkN0ANE0w2aT1fuJcVnoHZG8VcKgEjP4dkrQqjB0yn0yIgDxLihzQZrwPRf2drPJhD7uvIs1tht83orAaBT_ki0hAxKwkR6lyD3H11tEW-nej9H9KQcKVPBAJP990QWcNbBvGC3vK4bIqFEoiwdbvtDK9R_a-guewLpk2ey4BYessDUtQmBlITxpZzk41ASN0oDthxx51lvWvTV4BDlSRxZIp4h-cWVd60mxTy2RZsJPJy3Ksmj8HNkRu2tmovZXFwqy31iIevAVUZD8ukdXMGIeZ8LlcN5ubNyN_WfWWq_F-iH79LYHCr5voMZmpbwp855Y_gwW4eCpSKudR8IZOsfRYn6sRzZkIEZeojYpRuGuWzpF96br-4EfG03OQf9gCvSyTwhk0-vKsbSi7N269qextf-sUBN2OuDTDLWLRj-rPqjb-D_C8d1onw4aOvr13M0xU7EoxUOsiGpxk0NoQNq_d0&p=16&fvj=1&vjs=3\n",
      "/cmp/Mst\n",
      "/cmp/Mst/reviews\n",
      "/pagead/clk?mo=r&ad=-6NYlbfkN0DhVAxkc_TxySVbUOs6bxWYWOfhmDTNcVTjFFBAY1FXZz6G2ZVf9e4MVAzzXR8R20QsGAWb9NzhIs8B8jopn3eA2825s42zGmvlVG7gAO0bEUxQI69c80A7-HkBq_Vu8Zc90NCumBOt-HqrAlGR15dMaRu9gv1ME27T4UqPy6zuq4WNJbnkEJ3APrzyls2_fihGcYRs29T6qgosXNR_1UMRERjwfmt62vKJL6WEC-2e1e6IsBUvb2OSBqg0QtMYK3XjHHJ9vPkTYHakBlTzRVDFP8HydJ_JUuMxGdH3qmQMl38ODGWQ1alKZokvAUubKzvc4GWv-nvDD4Q3SgWPBM59N03tLWvM959pORuOj1DtX8UUIJJC4C4xsWB5otRH6uoKN1KrStw7fYWuZu0lszDtL7cEppHGgbj-sOkp9yW0AZ9eVy0PsmN_Vnhrp943GPaHifR5mMvxU2IElAoVfh15GQ05gTzRheMg2rdWK8X2Vj82yQ_oQaWr6h9R3RNkR6N_cUO1gt07xal5mUWGKIpKhsKzlKgwwHXRICQ78M85ZVcmNhN5uebMg0Y0UPwS_SSn7UTVB6TGaOTBTQgeutNjGU2xjICZV4Ge_lJbeGKUHr3ev-OKDKjP03YyQh-lSBUT6Q9zLVhmxg==&p=17&fvj=1&vjs=3\n",
      "https://www.indeed.com/legal?hl=en\n",
      "31\n"
     ]
    }
   ],
   "source": [
    "# scrape links to job postings\n",
    "# def scrapePage():\n",
    "links = soup.find_all(\"a\", {\"target\": \"_blank\"})\n",
    "if links == []: print(\"Empty\") \n",
    "else:     \n",
    "    urls = []\n",
    "    i = 0\n",
    "    print(\"Not empty\")\n",
    "    for link in links:\n",
    "        if link.get(\"href\") is not None:\n",
    "            urls.append(link.get(\"href\"))\n",
    "            print(link.get(\"href\"))\n",
    "            i = i+1\n",
    "print(i)"
   ]
  },
  {
   "cell_type": "code",
   "execution_count": 27,
   "metadata": {
    "scrolled": true
   },
   "outputs": [
    {
     "name": "stdout",
     "output_type": "stream",
     "text": [
      "starting\n",
      "here\n",
      "<title>Software Developer - San Francisco, CA - Indeed.com</title>\n",
      "Software Developer\n"
     ]
    },
    {
     "ename": "KeyError",
     "evalue": "'p'",
     "output_type": "error",
     "traceback": [
      "\u001b[1;31m---------------------------------------------------------------------------\u001b[0m",
      "\u001b[1;31mKeyError\u001b[0m                                  Traceback (most recent call last)",
      "\u001b[1;32m<ipython-input-27-2a60839e5abf>\u001b[0m in \u001b[0;36m<module>\u001b[1;34m\u001b[0m\n\u001b[0;32m     26\u001b[0m \u001b[1;33m\u001b[0m\u001b[0m\n\u001b[0;32m     27\u001b[0m     \u001b[0mdivs\u001b[0m \u001b[1;33m=\u001b[0m \u001b[0mnew_soup\u001b[0m\u001b[1;33m.\u001b[0m\u001b[0mfind\u001b[0m\u001b[1;33m(\u001b[0m\u001b[1;34m\"div\"\u001b[0m\u001b[1;33m,\u001b[0m\u001b[1;33m{\u001b[0m\u001b[1;34m\"class\"\u001b[0m\u001b[1;33m:\u001b[0m \u001b[1;33m[\u001b[0m\u001b[1;34m\"jobsearch-jobDescriptionText\"\u001b[0m\u001b[1;33m]\u001b[0m\u001b[1;33m}\u001b[0m\u001b[1;33m)\u001b[0m\u001b[1;33m\u001b[0m\u001b[1;33m\u001b[0m\u001b[0m\n\u001b[1;32m---> 28\u001b[1;33m     \u001b[0mprint\u001b[0m\u001b[1;33m(\u001b[0m\u001b[0mdivs\u001b[0m\u001b[1;33m[\u001b[0m\u001b[1;34m\"p\"\u001b[0m\u001b[1;33m]\u001b[0m\u001b[1;33m)\u001b[0m\u001b[1;33m\u001b[0m\u001b[1;33m\u001b[0m\u001b[0m\n\u001b[0m\u001b[0;32m     29\u001b[0m     \u001b[0mposting\u001b[0m \u001b[1;33m=\u001b[0m \u001b[1;33m[\u001b[0m\u001b[0msite_title\u001b[0m\u001b[1;33m]\u001b[0m\u001b[1;33m\u001b[0m\u001b[1;33m\u001b[0m\u001b[0m\n",
      "\u001b[1;32m~\\Anaconda3\\lib\\site-packages\\bs4\\element.py\u001b[0m in \u001b[0;36m__getitem__\u001b[1;34m(self, key)\u001b[0m\n\u001b[0;32m    969\u001b[0m         \"\"\"tag[key] returns the value of the 'key' attribute for the tag,\n\u001b[0;32m    970\u001b[0m         and throws an exception if it's not there.\"\"\"\n\u001b[1;32m--> 971\u001b[1;33m         \u001b[1;32mreturn\u001b[0m \u001b[0mself\u001b[0m\u001b[1;33m.\u001b[0m\u001b[0mattrs\u001b[0m\u001b[1;33m[\u001b[0m\u001b[0mkey\u001b[0m\u001b[1;33m]\u001b[0m\u001b[1;33m\u001b[0m\u001b[1;33m\u001b[0m\u001b[0m\n\u001b[0m\u001b[0;32m    972\u001b[0m \u001b[1;33m\u001b[0m\u001b[0m\n\u001b[0;32m    973\u001b[0m     \u001b[1;32mdef\u001b[0m \u001b[0m__iter__\u001b[0m\u001b[1;33m(\u001b[0m\u001b[0mself\u001b[0m\u001b[1;33m)\u001b[0m\u001b[1;33m:\u001b[0m\u001b[1;33m\u001b[0m\u001b[1;33m\u001b[0m\u001b[0m\n",
      "\u001b[1;31mKeyError\u001b[0m: 'p'"
     ]
    }
   ],
   "source": [
    "# scrape postings array\n",
    "# def scrapeAllPostings\n",
    "postings = []\n",
    "print(\"starting\")\n",
    "if urls[0] is not None:\n",
    "    url = urls[0]\n",
    "    if \".com\" not in url:\n",
    "        url = \"https://indeed.com/\" + url\n",
    "        #print(\"url\")\n",
    "    print(\"here\")\n",
    "    html = urlopen(url)\n",
    "    new_soup = BeautifulSoup(html, 'lxml')\n",
    "    type(new_soup)\n",
    "    site_title = new_soup.title\n",
    "    print(site_title)\n",
    "    titles = new_soup.findAll(\"h3\")\n",
    "    #print(\"h3 titles\")\n",
    "    #print(titles)\n",
    "    \n",
    "    # job title\n",
    "    for t in titles:\n",
    "        #print(t['class'])\n",
    "        if t['class'] == ['icl-u-xs-mb--xs', 'icl-u-xs-mt--none', 'jobsearch-JobInfoHeader-title']:\n",
    "            job_title = t.text\n",
    "            print(job_title)\n",
    "    \n",
    "    divs = new_soup.find(\"div\",{\"class\": [\"jobsearch-jobDescriptionText\"]})\n",
    "    posting = [site_title]  "
   ]
  },
  {
   "cell_type": "code",
   "execution_count": null,
   "metadata": {},
   "outputs": [],
   "source": []
  },
  {
   "cell_type": "code",
   "execution_count": null,
   "metadata": {},
   "outputs": [],
   "source": []
  }
 ],
 "metadata": {
  "kernelspec": {
   "display_name": "Python 3",
   "language": "python",
   "name": "python3"
  },
  "language_info": {
   "codemirror_mode": {
    "name": "ipython",
    "version": 3
   },
   "file_extension": ".py",
   "mimetype": "text/x-python",
   "name": "python",
   "nbconvert_exporter": "python",
   "pygments_lexer": "ipython3",
   "version": "3.7.4"
  }
 },
 "nbformat": 4,
 "nbformat_minor": 2
}
